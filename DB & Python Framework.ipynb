{
 "cells": [
  {
   "cell_type": "code",
   "execution_count": null,
   "id": "b76be2d8",
   "metadata": {},
   "outputs": [],
   "source": [
    " 1.Why Django should be used for web-development? Explain how you can create a project in Django?\n",
    " Ans : Django is the best framework for web applications, as it allows developers to use modules\n",
    "       for faster development\n",
    "APPLY COMMAND FOR START PROJECT\n",
    "-python -m venv enviorment_name\n",
    "-enviorment_name\\Scripts\\activate\n",
    "-pip install django\n",
    "-django-admin startproject mysite .\n",
    "-python manage.py migrate\n",
    "-python manage.py runserver"
   ]
  },
  {
   "cell_type": "code",
   "execution_count": null,
   "id": "2a724b2a",
   "metadata": {},
   "outputs": [],
   "source": [
    "2. How to check installed version of django?\n",
    "Ans :python -m django --version"
   ]
  },
  {
   "cell_type": "code",
   "execution_count": null,
   "id": "a585f34b",
   "metadata": {},
   "outputs": [],
   "source": [
    "3.Explain what does django-admin.py make messages command is used for?\n",
    "Ans :makemessages. Runs over the entire source tree of the current directory and pulls out all \n",
    "    strings marked for translation"
   ]
  },
  {
   "cell_type": "code",
   "execution_count": null,
   "id": "ac27f44f",
   "metadata": {},
   "outputs": [],
   "source": [
    "4.What is Django URLs?make program to create django urls\n",
    "Ans : In Django, URLs are used to map incoming requests to their respective view functions."
   ]
  },
  {
   "cell_type": "code",
   "execution_count": null,
   "id": "87282e8c",
   "metadata": {},
   "outputs": [],
   "source": [
    "5.What is a QuerySet?Write program to create a new Post object in database:\n",
    "Ans : In Django, a QuerySet is a collection (or list) of database objects (or rows) that \n",
    "      match a particularquery."
   ]
  },
  {
   "cell_type": "code",
   "execution_count": null,
   "id": "f75c3261",
   "metadata": {},
   "outputs": [],
   "source": [
    "6.Mention what command line can be used to load data into Django?\n",
    "Ans : Django-admin.py loaddata"
   ]
  },
  {
   "cell_type": "code",
   "execution_count": null,
   "id": "9fe9a121",
   "metadata": {},
   "outputs": [],
   "source": [
    "7. Explain what does django-admin.py make messages command is use  for? \n",
    "Ans.\n",
    " It creates (or updates) a message file in the conf/locale (in the Django tree) \n",
    " or locale (for project and application) directory. After making changes to the messages \n",
    " files you need to compile them with compilemessages for use with the builtin gettext support."
   ]
  }
 ],
 "metadata": {
  "kernelspec": {
   "display_name": "Python 3 (ipykernel)",
   "language": "python",
   "name": "python3"
  },
  "language_info": {
   "codemirror_mode": {
    "name": "ipython",
    "version": 3
   },
   "file_extension": ".py",
   "mimetype": "text/x-python",
   "name": "python",
   "nbconvert_exporter": "python",
   "pygments_lexer": "ipython3",
   "version": "3.9.13"
  }
 },
 "nbformat": 4,
 "nbformat_minor": 5
}
